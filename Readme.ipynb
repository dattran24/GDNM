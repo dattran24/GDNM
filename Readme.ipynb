\begin{equation*}
P(E)   = {n \choose k} p^k (1-p)^{ n-k} 
\end{equation*}
